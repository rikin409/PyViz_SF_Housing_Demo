{
 "cells": [
  {
   "cell_type": "markdown",
   "metadata": {},
   "source": [
    "# San Francisco Rental Prices Dashboard\n",
    "\n",
    "In this notebook, you will compile the visualizations from the previous analysis into functions that can be used for a Panel dashboard."
   ]
  },
  {
   "cell_type": "code",
   "execution_count": 111,
   "metadata": {},
   "outputs": [],
   "source": [
    "# imports\n",
    "import panel as pn\n",
    "pn.extension('plotly')\n",
    "import plotly.express as px\n",
    "import pandas as pd\n",
    "import hvplot.pandas\n",
    "import matplotlib.pyplot as plt\n",
    "import os\n",
    "from pathlib import Path\n",
    "from dotenv import load_dotenv\n",
    "import numpy as np"
   ]
  },
  {
   "cell_type": "code",
   "execution_count": 112,
   "metadata": {},
   "outputs": [],
   "source": [
    "# Read the Mapbox API key\n",
    "load_dotenv(\"keys.env\")\n",
    "map_box_api = os.getenv(\"MAPBOX_API_KEY\")\n",
    "px.set_mapbox_access_token(map_box_api)"
   ]
  },
  {
   "cell_type": "markdown",
   "metadata": {},
   "source": [
    "# Import Data"
   ]
  },
  {
   "cell_type": "code",
   "execution_count": 113,
   "metadata": {},
   "outputs": [],
   "source": [
    "# Import the necessary CSVs to Pandas DataFrames\n",
    "file_path = Path(\"Data/sfo_neighborhoods_census_data.csv\")\n",
    "sfo_data = pd.read_csv(file_path, index_col=\"year\")\n",
    "grouped_df = sfo_data.groupby(\"year\").mean()\n",
    "neighborhood_df = sfo_data.groupby([\"year\", \"neighborhood\"]).mean()\n",
    "neighborhood_df = neighborhood_df.reset_index()\n",
    "neighborhood_df_top_ten = neighborhood_df.groupby([\"neighborhood\"]).mean()\n",
    "neighborhood_df_top_ten = neighborhood_df_top_ten.sort_values(\"sale_price_sqr_foot\", ascending=False).reset_index().loc[0:9]\n",
    "coord_path = Path(\"Data/neighborhoods_coordinates.csv\")\n",
    "coordinates = pd.read_csv(coord_path)\n",
    "neighborhood_df_grouped = neighborhood_df.groupby(\"neighborhood\").mean().reset_index().drop(\"year\", axis=1)\n",
    "neighborhood_df_grouped = pd.concat([neighborhood_df_grouped, coordinates], axis = \"columns\", join = \"inner\")\n",
    "neighborhood_df_grouped.drop([\"neighborhood\"],axis = 1)\n",
    "neighborhood_df_grouped = neighborhood_df_grouped[[\"Neighborhood\", \"Lat\", \"Lon\", \"sale_price_sqr_foot\", \"housing_units\", \"gross_rent\"]]\n",
    "neighborhood_yearly_df = neighborhood_df.loc[neighborhood_df['neighborhood'].isin(neighborhood_df_top_ten[\"neighborhood\"])]\n",
    "neighborhood_yearly_df = neighborhood_yearly_df.groupby([\"neighborhood\", \"year\"]).mean().reset_index()"
   ]
  },
  {
   "cell_type": "markdown",
   "metadata": {},
   "source": [
    "- - -"
   ]
  },
  {
   "cell_type": "markdown",
   "metadata": {},
   "source": [
    "## Panel Visualizations\n",
    "\n",
    "In this section, you will copy the code for each plot type from your analysis notebook and place it into separate functions that Panel can use to create panes for the dashboard. \n",
    "\n",
    "These functions will convert the plot object to a Panel pane.\n",
    "\n",
    "Be sure to include any DataFrame transformation/manipulation code required along with the plotting code.\n",
    "\n",
    "Return a Panel pane object from each function that can be used to build the dashboard.\n",
    "\n",
    "Note: Remove any `.show()` lines from the code. We want to return the plots instead of showing them. The Panel dashboard will then display the plots."
   ]
  },
  {
   "cell_type": "code",
   "execution_count": 114,
   "metadata": {},
   "outputs": [],
   "source": [
    "# Define Panel Visualization Functions\n",
    "def housing_units_per_year():\n",
    "    mean = np.mean(grouped_df[\"housing_units\"])\n",
    "    stdev = np.std(grouped_df[\"housing_units\"])\n",
    "    minimum = np.min(grouped_df[\"housing_units\"])\n",
    "    maximum = np.max(grouped_df[\"housing_units\"])\n",
    "    plot = grouped_df.hvplot(kind = \"bar\", y=\"housing_units\", ylim = ((minimum-stdev),(maximum+stdev))).opts(yformatter=\"%.0f\")\n",
    "    panel = pn.panel(plot)\n",
    "    return panel\n",
    "\n",
    "\n",
    "def average_gross_rent():\n",
    "    \"\"\"Average Gross Rent in San Francisco Per Year.\"\"\"\n",
    "    \n",
    "    plot = grouped_df.hvplot(y = [\"gross_rent\"], color=\"red\")\n",
    "    panel = pn.panel(plot)\n",
    "    return panel\n",
    "\n",
    "\n",
    "def average_sales_price():\n",
    "    \"\"\"Average Sales Price Per Year.\"\"\"\n",
    "    \n",
    "    plot = grouped_df.hvplot(y = [\"sale_price_sqr_foot\"], color=\"green\")\n",
    "    panel = pn.panel(plot)\n",
    "    return panel\n",
    "\n",
    "\n",
    "\n",
    "def average_price_by_neighborhood():\n",
    "    \"\"\"Average Prices by Neighborhood.\"\"\"\n",
    "    \n",
    "    plot = neighborhood_df.hvplot(x= \"year\",y=\"sale_price_sqr_foot\", groupby=\"neighborhood\", title = None, height=400)\n",
    "    panel = pn.panel(plot)\n",
    "    return panel\n",
    "\n",
    "\n",
    "def top_most_expensive_neighborhoods():\n",
    "    \"\"\"Top 10 Most Expensive Neighborhoods.\"\"\"\n",
    "\n",
    "    plot = neighborhood_df_top_ten.hvplot(kind=\"bar\", x = \"neighborhood\", y=\"sale_price_sqr_foot\", rot=45, height=400)\n",
    "    panel = pn.panel(plot)\n",
    "    return panel\n",
    "\n",
    "\n",
    "def most_expensive_neighborhoods_rent_sales():\n",
    "    \"\"\"Comparison of Rent and Sales Prices of Most Expensive Neighborhoods.\"\"\"   \n",
    "    \n",
    "    plot = neighborhood_df.hvplot(kind =\"bar\", x= \"year\",y=[\"sale_price_sqr_foot\", \"gross_rent\"], groupby=\"neighborhood\", rot=90, height=400)\n",
    "    panel = pn.panel(plot)\n",
    "    return panel\n",
    "    \n",
    "def parallel_coordinates():\n",
    "    \"\"\"Parallel Coordinates Plot.\"\"\"\n",
    "    plot = px.parallel_coordinates(\n",
    "    neighborhood_df_top_ten,\n",
    "    dimensions=[\"neighborhood\", \"sale_price_sqr_foot\", \"housing_units\", \"gross_rent\"],\n",
    "    color=\"sale_price_sqr_foot\",\n",
    "    color_continuous_scale=px.colors.sequential.Inferno,\n",
    "    width = 1000,\n",
    "    height = 400\n",
    "    )\n",
    "    panel = pn.panel(plot)\n",
    "    return panel\n",
    "\n",
    "\n",
    "\n",
    "def parallel_categories():\n",
    "    \"\"\"Parallel Categories Plot.\"\"\"\n",
    "    \n",
    "    plot = px.parallel_categories(\n",
    "    neighborhood_df_top_ten,\n",
    "    dimensions=[\"neighborhood\", \"sale_price_sqr_foot\", \"housing_units\", \"gross_rent\"],\n",
    "    color=\"sale_price_sqr_foot\",\n",
    "    color_continuous_scale=px.colors.sequential.Inferno,\n",
    "    width = 1000,\n",
    "    height = 400\n",
    "    )\n",
    "    \n",
    "    panel = pn.panel(plot)\n",
    "    return panel\n",
    "\n",
    "\n",
    "def neighborhood_map():\n",
    "    \"\"\"Neighborhood Map.\"\"\"\n",
    "\n",
    "    px.set_mapbox_access_token(map_box_api)\n",
    "\n",
    "    # Create a scatter mapbox to analyze neighborhood info\n",
    "    map_plot = px.scatter_mapbox(\n",
    "        neighborhood_df_grouped,\n",
    "        lat=\"Lat\",\n",
    "        lon=\"Lon\",\n",
    "        size=\"sale_price_sqr_foot\",\n",
    "        color=\"Neighborhood\",\n",
    "        color_discrete_sequence=px.colors.sequential.Plasma_r,\n",
    "        zoom=9,\n",
    "        title= \"San Fransisco\",\n",
    "        width = 1000,\n",
    "        height = 800\n",
    "    )\n",
    "\n",
    "    panel = pn.panel(map_plot)\n",
    "    return panel\n",
    "\n",
    "\n",
    "def sunburst():\n",
    "    \"\"\"Sunburst Plot.\"\"\"\n",
    "    \n",
    "    plot = px.sunburst(neighborhood_yearly_df, path = [\"year\", \"neighborhood\"], values=\"sale_price_sqr_foot\", color=\"gross_rent\", title=\"Cost Analysis of Top 10 Most Expensive SF Neighborhoods\",color_continuous_scale='blues', height=700)\n",
    "    panel = pn.panel(plot)\n",
    "    return panel"
   ]
  },
  {
   "cell_type": "markdown",
   "metadata": {},
   "source": [
    "## Panel Dashboard\n",
    "\n",
    "In this section, you will combine all of the plots into a single dashboard view using Panel. Be creative with your dashboard design!"
   ]
  },
  {
   "cell_type": "code",
   "execution_count": 115,
   "metadata": {},
   "outputs": [],
   "source": [
    "# Create a Title for the Dashboard\n",
    "dashboard_title = \"San Francisco Housing Market\"\n",
    "\n",
    "\n",
    "# Create a tab layout for the dashboard\n",
    "intro = pn.Column(\"## San Fransisco has been one of the hottest real estate markets in the Unites States since the turn of the millenia. See why investors from all around the world are looking to get into the action!\", neighborhood_map())\n",
    "yearly = pn.Row(pn.Column(\"# Housing Unit Growth\", housing_units_per_year()), pn.Column(\"# Average Gross Rent Growth\", average_gross_rent()), pn.Column(\"# Average Price Growth\", average_sales_price()))\n",
    "hoods = pn.Row(pn.Column(\"#Average Sales Price\",average_price_by_neighborhood()),pn.Column(\"# The Most Expensive Neighborhoods in SF\",top_most_expensive_neighborhoods()),pn.Column(\"# A Deeper Look into the Neighborhoods\",most_expensive_neighborhoods_rent_sales()))\n",
    "advanced = pn.Column(\"# San Fransisco Interactive Analysis\", pn.Row(parallel_coordinates(),parallel_categories()))\n",
    "sunburst = pn.Column(\"# Summary of San Fransisco Housing Market\", sunburst())\n",
    "\n",
    "# Create the dashboard\n",
    "dash = pn.Tabs((\"Introduction\", intro), (\"Yearly Analysis\", yearly),(\"Neighborhood Analysis\", hoods), (\"Advanced Analysis\", advanced), (\"Summary\", sunburst))"
   ]
  },
  {
   "cell_type": "markdown",
   "metadata": {},
   "source": [
    "## Serve the Panel Dashboard"
   ]
  },
  {
   "cell_type": "code",
   "execution_count": 116,
   "metadata": {},
   "outputs": [
    {
     "name": "stdout",
     "output_type": "stream",
     "text": [
      "Launching server at http://localhost:58758\n"
     ]
    },
    {
     "data": {
      "text/plain": [
       "<bokeh.server.server.Server at 0x1bb02304b48>"
      ]
     },
     "execution_count": 116,
     "metadata": {},
     "output_type": "execute_result"
    }
   ],
   "source": [
    "# Serve the# dashboard\n",
    "dash.show()"
   ]
  },
  {
   "cell_type": "markdown",
   "metadata": {},
   "source": [
    "# Debugging\n",
    "\n",
    "Note: Some of the Plotly express plots may not render in the notebook through the panel functions.\n",
    "\n",
    "However, you can test each plot by uncommenting the following code"
   ]
  },
  {
   "cell_type": "code",
   "execution_count": null,
   "metadata": {},
   "outputs": [],
   "source": [
    "# housing_units_per_year()"
   ]
  },
  {
   "cell_type": "code",
   "execution_count": null,
   "metadata": {},
   "outputs": [],
   "source": [
    "# average_gross_rent()"
   ]
  },
  {
   "cell_type": "code",
   "execution_count": null,
   "metadata": {},
   "outputs": [],
   "source": [
    "# average_sales_price()"
   ]
  },
  {
   "cell_type": "code",
   "execution_count": null,
   "metadata": {},
   "outputs": [],
   "source": [
    "# average_price_by_neighborhood()"
   ]
  },
  {
   "cell_type": "code",
   "execution_count": null,
   "metadata": {},
   "outputs": [],
   "source": [
    "# top_most_expensive_neighborhoods()"
   ]
  },
  {
   "cell_type": "code",
   "execution_count": null,
   "metadata": {},
   "outputs": [],
   "source": [
    "# most_expensive_neighborhoods_rent_sales()"
   ]
  },
  {
   "cell_type": "code",
   "execution_count": null,
   "metadata": {},
   "outputs": [],
   "source": [
    "# neighborhood_map().show()"
   ]
  },
  {
   "cell_type": "code",
   "execution_count": null,
   "metadata": {},
   "outputs": [],
   "source": [
    "# parallel_categories()"
   ]
  },
  {
   "cell_type": "code",
   "execution_count": null,
   "metadata": {},
   "outputs": [],
   "source": [
    "# parallel_coordinates()"
   ]
  },
  {
   "cell_type": "code",
   "execution_count": null,
   "metadata": {},
   "outputs": [],
   "source": [
    "# sunburst()"
   ]
  },
  {
   "cell_type": "code",
   "execution_count": null,
   "metadata": {},
   "outputs": [],
   "source": []
  }
 ],
 "metadata": {
  "file_extension": ".py",
  "kernelspec": {
   "display_name": "Python [conda env:pyvizenv] *",
   "language": "python",
   "name": "conda-env-pyvizenv-py"
  },
  "language_info": {
   "codemirror_mode": {
    "name": "ipython",
    "version": 3
   },
   "file_extension": ".py",
   "mimetype": "text/x-python",
   "name": "python",
   "nbconvert_exporter": "python",
   "pygments_lexer": "ipython3",
   "version": "3.7.9"
  },
  "mimetype": "text/x-python",
  "name": "python",
  "npconvert_exporter": "python",
  "pygments_lexer": "ipython3",
  "version": 3
 },
 "nbformat": 4,
 "nbformat_minor": 4
}
